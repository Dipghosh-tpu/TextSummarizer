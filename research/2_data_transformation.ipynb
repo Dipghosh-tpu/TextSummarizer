{
 "cells": [
  {
   "cell_type": "markdown",
   "metadata": {},
   "source": [
    "## Data Transformation"
   ]
  },
  {
   "cell_type": "code",
   "execution_count": 2,
   "metadata": {},
   "outputs": [
    {
     "data": {
      "text/plain": [
       "'c:\\\\Users\\\\dipgh\\\\OneDrive\\\\Desktop\\\\MLOps\\\\TextSummarizer\\\\research'"
      ]
     },
     "execution_count": 2,
     "metadata": {},
     "output_type": "execute_result"
    }
   ],
   "source": [
    "import os\n",
    "%pwd"
   ]
  },
  {
   "cell_type": "code",
   "execution_count": 3,
   "metadata": {},
   "outputs": [],
   "source": [
    "os.chdir(\"../\")"
   ]
  },
  {
   "cell_type": "code",
   "execution_count": 4,
   "metadata": {},
   "outputs": [
    {
     "data": {
      "text/plain": [
       "'c:\\\\Users\\\\dipgh\\\\OneDrive\\\\Desktop\\\\MLOps\\\\TextSummarizer'"
      ]
     },
     "execution_count": 4,
     "metadata": {},
     "output_type": "execute_result"
    }
   ],
   "source": [
    "%pwd"
   ]
  },
  {
   "cell_type": "code",
   "execution_count": 28,
   "metadata": {},
   "outputs": [],
   "source": [
    "from dataclasses import dataclass\n",
    "from pathlib import Path\n",
    "\n",
    "@dataclass\n",
    "class DataTransformationConfig:\n",
    "    root_dir: Path\n",
    "    data_inp_path: Path\n",
    "    data_path: Path\n",
    "    tokenizer_name: Path\n"
   ]
  },
  {
   "cell_type": "code",
   "execution_count": 29,
   "metadata": {},
   "outputs": [],
   "source": [
    "from src.textSummarizer.constants import *\n",
    "from src.textSummarizer.utils.common import read_yaml,create_directories"
   ]
  },
  {
   "cell_type": "code",
   "execution_count": null,
   "metadata": {},
   "outputs": [],
   "source": [
    "class ConfigurationManager:\n",
    "    def __init__(self,\n",
    "                 config_path=CONFIG_FILE_PATH,\n",
    "                 params_filepath=PARAMS_FILE_PATH):\n",
    "        self.config=read_yaml(config_path)\n",
    "        self.params=read_yaml(params_filepath)\n",
    "\n",
    "        create_directories([self.config.artifacts_root])\n",
    "\n",
    "    def get_data_transformation_config(self)-> DataTransformationConfig:\n",
    "        config=self.config.data_transformation\n",
    "\n",
    "        create_directories([config.root_dir])\n",
    "\n",
    "        data_transformation_config=DataTransformationConfig(\n",
    "            root_dir=config.root_dir,\n",
    "            data_inp_path=config.data_inp_path,\n",
    "            data_path=config.data_path,\n",
    "            tokenizer_name=config.tokenizer_name\n",
    "        )\n",
    "\n",
    "        return data_transformation_config"
   ]
  },
  {
   "cell_type": "code",
   "execution_count": 35,
   "metadata": {},
   "outputs": [],
   "source": [
    "import os\n",
    "from src.textSummarizer.logging import logger\n",
    "from transformers import AutoTokenizer\n",
    "from datasets import load_dataset, load_from_disk, DatasetDict"
   ]
  },
  {
   "cell_type": "code",
   "execution_count": 40,
   "metadata": {},
   "outputs": [],
   "source": [
    "# class DataTransformation:\n",
    "#     def __init__(self,config:DataTransformationConfig):\n",
    "#         self.config=config\n",
    "#         self.tokenizer=AutoTokenizer.from_pretrained(config.tokenizer_name)\n",
    "\n",
    "#     def convert_examples_to_features(self,example_batch):\n",
    "#         input_encodings = self.tokenizer(example_batch['dialogue'] , max_length = 1024, truncation = True )\n",
    "\n",
    "#         with self.tokenizer.as_target_tokenizer():\n",
    "#             target_encodings = self.tokenizer(example_batch['summary'], max_length = 128, truncation = True )\n",
    "\n",
    "#         return {\n",
    "#             'input_ids' : input_encodings['input_ids'],\n",
    "#             'attention_mask': input_encodings['attention_mask'],\n",
    "#             'labels': target_encodings['input_ids']\n",
    "#         }\n",
    "    \n",
    "#     def convert(self):\n",
    "#         dataset_samsum = load_from_disk(self.config.data_path)\n",
    "#         dataset_samsum_pt = dataset_samsum.map(self.convert_examples_to_features, batched = True)\n",
    "#         dataset_samsum_pt.save_to_disk(os.path.join(self.config.root_dir,\"samsum_dataset\"))\n",
    "\n",
    "\n",
    "class DataTransformation:\n",
    "    def __init__(self, config: DataTransformationConfig):\n",
    "        self.config = config\n",
    "        self.tokenizer = AutoTokenizer.from_pretrained(config.tokenizer_name)\n",
    "\n",
    "    def convert_examples_to_features(self, example_batch):\n",
    "        # This method remains the same as it handles the tokenization\n",
    "        input_encodings = self.tokenizer(example_batch['dialogue'], max_length=1024, truncation=True)\n",
    "        \n",
    "        with self.tokenizer.as_target_tokenizer():\n",
    "            target_encodings = self.tokenizer(example_batch['summary'], max_length=128, truncation=True)\n",
    "            \n",
    "        return {\n",
    "            'input_ids': input_encodings['input_ids'],\n",
    "            'attention_mask': input_encodings['attention_mask'],\n",
    "            'labels': target_encodings['input_ids']\n",
    "        }\n",
    "    \n",
    "    def convert(self):\n",
    "        # Load the pre-split datasets from json files\n",
    "        train_dataset = load_dataset(\"json\", \n",
    "                                   data_files=os.path.join(self.config.data_inp_path, \"train.json\"))[\"train\"]\n",
    "        test_dataset = load_dataset(\"json\", \n",
    "                                  data_files=os.path.join(self.config.data_inp_path, \"test.json\"))[\"train\"]\n",
    "        val_dataset = load_dataset(\"json\", \n",
    "                                 data_files=os.path.join(self.config.data_inp_path, \"val.json\"))[\"train\"]\n",
    "        \n",
    "        # Create a DatasetDict with all splits\n",
    "        dataset_samsum = DatasetDict({\n",
    "            \"train\": train_dataset,\n",
    "            \"test\": test_dataset,\n",
    "            \"validation\": val_dataset\n",
    "        })\n",
    "\n",
    "        # Apply tokenization to all splits\n",
    "        dataset_samsum_pt = dataset_samsum.map(\n",
    "            self.convert_examples_to_features, \n",
    "            batched=True,\n",
    "            remove_columns=dataset_samsum[\"train\"].column_names  # Remove original columns after tokenization\n",
    "        )\n",
    "        \n",
    "        # Save the processed dataset\n",
    "        dataset_samsum_pt.save_to_disk(os.path.join(self.config.data_path))"
   ]
  },
  {
   "cell_type": "code",
   "execution_count": 41,
   "metadata": {},
   "outputs": [
    {
     "name": "stdout",
     "output_type": "stream",
     "text": [
      "[2025-04-21 13:28:24,934]: INFO: common: yaml file: config\\config.yaml loaded successfully:\n",
      "[2025-04-21 13:28:24,935]: INFO: common: yaml file: params.yaml loaded successfully:\n",
      "[2025-04-21 13:28:24,936]: INFO: common: created directory at: artifacts:\n",
      "[2025-04-21 13:28:24,937]: INFO: common: created directory at: artifacts/:\n"
     ]
    },
    {
     "name": "stderr",
     "output_type": "stream",
     "text": [
      "Map: 100%|██████████| 14732/14732 [00:02<00:00, 7141.68 examples/s]\n",
      "Map: 100%|██████████| 819/819 [00:00<00:00, 5774.40 examples/s]\n",
      "Map: 100%|██████████| 818/818 [00:00<00:00, 7715.87 examples/s]\n",
      "Saving the dataset (1/1 shards): 100%|██████████| 14732/14732 [00:00<00:00, 797698.02 examples/s]\n",
      "Saving the dataset (1/1 shards): 100%|██████████| 819/819 [00:00<00:00, 179765.29 examples/s]\n",
      "Saving the dataset (1/1 shards): 100%|██████████| 818/818 [00:00<00:00, 138803.33 examples/s]\n"
     ]
    }
   ],
   "source": [
    "config=ConfigurationManager()\n",
    "data_transformation_config=config.get_data_transformation_config()\n",
    "data_transformation=DataTransformation(config=data_transformation_config)\n",
    "data_transformation.convert()\n"
   ]
  },
  {
   "cell_type": "code",
   "execution_count": null,
   "metadata": {},
   "outputs": [],
   "source": []
  }
 ],
 "metadata": {
  "kernelspec": {
   "display_name": "textsummarizer",
   "language": "python",
   "name": "python3"
  },
  "language_info": {
   "codemirror_mode": {
    "name": "ipython",
    "version": 3
   },
   "file_extension": ".py",
   "mimetype": "text/x-python",
   "name": "python",
   "nbconvert_exporter": "python",
   "pygments_lexer": "ipython3",
   "version": "3.11.1"
  }
 },
 "nbformat": 4,
 "nbformat_minor": 2
}
