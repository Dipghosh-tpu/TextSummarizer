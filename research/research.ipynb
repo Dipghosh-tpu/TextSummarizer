{
 "cells": [
  {
   "cell_type": "code",
   "execution_count": 2,
   "id": "bbc6d428",
   "metadata": {},
   "outputs": [
    {
     "data": {
      "text/plain": [
       "'Sunanda'"
      ]
     },
     "execution_count": 2,
     "metadata": {},
     "output_type": "execute_result"
    }
   ],
   "source": [
    "dict_info = {\"name\":\"Sunanda\", \"age\":25, \"city\":\"Pune\"}\n",
    "from box import ConfigBox\n",
    "dict_info = ConfigBox(dict_info)\n",
    "dict_info.name"
   ]
  },
  {
   "cell_type": "code",
   "execution_count": null,
   "id": "691fc7f0",
   "metadata": {},
   "outputs": [],
   "source": []
  }
 ],
 "metadata": {
  "kernelspec": {
   "display_name": "textsummarizer",
   "language": "python",
   "name": "python3"
  },
  "language_info": {
   "codemirror_mode": {
    "name": "ipython",
    "version": 3
   },
   "file_extension": ".py",
   "mimetype": "text/x-python",
   "name": "python",
   "nbconvert_exporter": "python",
   "pygments_lexer": "ipython3",
   "version": "3.11.1"
  }
 },
 "nbformat": 4,
 "nbformat_minor": 5
}
